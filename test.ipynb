{
 "cells": [
  {
   "cell_type": "markdown",
   "id": "2717f71f",
   "metadata": {},
   "source": [
    "# Required Package Installation\n",
    "\n",
    "The following packages need to be installed to run the TTS examples:\n",
    "- `pyttsx3`: Offline text-to-speech engine\n",
    "- `edge-tts`: Microsoft Edge TTS service\n",
    "- `pygame`: For audio playback\n",
    "- `playsound`: Simple audio playback"
   ]
  },
  {
   "cell_type": "code",
   "execution_count": null,
   "id": "49d936de",
   "metadata": {},
   "outputs": [],
   "source": [
    "import asyncio\n",
    "import edge_tts\n",
    "\n",
    "async def main():\n",
    "    try:\n",
    "        text = \"Hello, this is Microsoft Edge text-to-speech.\"\n",
    "        voice = \"en-US-AriaNeural\"\n",
    "        output_file = \"speech.mp3\"\n",
    "\n",
    "        communicate = edge_tts.Communicate(text, voice)\n",
    "        await communicate.save(output_file)\n",
    "        \n",
    "        # Use IPython display instead of os.system\n",
    "        from IPython.display import Audio, display\n",
    "        display(Audio(output_file))\n",
    "    except Exception as e:\n",
    "        print(f\"Error with edge-tts: {e}\")\n",
    "\n",
    "await main()"
   ]
  }
 ],
 "metadata": {
  "kernelspec": {
   "display_name": "Python 3",
   "language": "python",
   "name": "python3"
  },
  "language_info": {
   "codemirror_mode": {
    "name": "ipython",
    "version": 3
   },
   "file_extension": ".py",
   "mimetype": "text/x-python",
   "name": "python",
   "nbconvert_exporter": "python",
   "pygments_lexer": "ipython3",
   "version": "3.12.5"
  }
 },
 "nbformat": 4,
 "nbformat_minor": 5
}
